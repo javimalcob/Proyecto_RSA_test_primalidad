{
  "nbformat": 4,
  "nbformat_minor": 0,
  "metadata": {
    "colab": {
      "provenance": []
    },
    "kernelspec": {
      "name": "python3",
      "display_name": "Python 3"
    }
  },
  "cells": [
    {
      "cell_type": "markdown",
      "metadata": {
        "id": "chKp2TJb9cok"
      },
      "source": [
        "# Algoritmo RSA y tests de primalidad\n",
        "\n",
        "Al finalizar este proyecto deberás haber escrito  los algoritmos necesarios para implementar el algoritmo RSA en la \"vida diaria\". Es decir,  se podrían usar los algoritmos para implementar un sistema completamente funcional.\n",
        "\n",
        "Para implementar el algoritmo RSA son necesarios dos componentes importantes. El primero es que debemos saber hacer eficientemente exponenciación modular con exponentes \"grandes\". El segundo componente importante es que debemos poder determinar en forma eficiente si un número, también, \"grande\",  es primo o no. Esto nos permitirá encontrar números primos para implementar RSA.\n",
        "\n",
        "A lo largo del proyecto se darán las herramientas para poder desarrollar estas dos componentes y finalmente, lo más sencillo, implementar el algoritmo RSA.\n",
        "\n"
      ]
    },
    {
      "cell_type": "markdown",
      "metadata": {
        "id": "DJ5ew2wvQWqk"
      },
      "source": [
        "## Método binario para exponenciacion modular\n",
        "\n",
        "Ver: [https://es.wikipedia.org/wiki/Exponenciaci%C3%B3n_modular](https://es.wikipedia.org/wiki/Exponenciaci%C3%B3n_modular)\n",
        "\n",
        "Sean `a, d, n` enteros positivos se desea calcular `a**d % n`\n",
        "1.  Se calcula la expresión binaria de $d$.\n",
        "Si $d$ en base $2$ es $d_m...d_0$, entonces\n",
        "$$d = \\sum_{i=0}^{m} d_i \\cdot  2^i$$\n",
        "Entonces\n",
        "\\begin{align*}\n",
        "a^d &= \\prod_{i=0}^{m} a^{d_i \\cdot 2^i} \\\\\n",
        "             &= \\prod_{i=0}^{m} (a^{2^i})^{d_i}.\n",
        "\\end{align*}\n",
        "Usando lo anterior podemos calcular `c = a**d % n` recursivamente:\n",
        "        c = (a**(2**0))**d_0 % n        (caso base)\n",
        "        c = c * (a**(2**i))**d_i % n    (paso i)\n",
        "2. El cálculo anterior no produce gran beneficio en la eficiencia de la exponenciación modular, pues `a**(2**i) % n` sigue siendo costoso de calcular. Sin embargo, si $a^2 \\equiv a_0 \\pmod{n}$, obtenemos la igualdad\n",
        "$$\n",
        "a^{2^i} = a^{2\\cdot 2^{i-1}} = (a^{2})^{2^{i-1}} \\equiv a_0^{2^{i-1}} \\pmod{n}.\n",
        "$$\n",
        "Luego,  en $i$ pasos podemos obtener el valor `a**(2**i) % n`.\n",
        "\n",
        "3. Los dos pasos anteriores dan un algoritmo eficiente para calcular `c = a**d % n`, sin embargo, utilizando la idea de escribir el exponente en base 2, se puede obtener un algoritmo eficiente y más simple en su implementación. La idea es la siguiente:\n",
        "$$   d = d_0 \\cdot 2 + r  \\quad  \\Rightarrow \\quad  a^d \\equiv (a^2)^{d_0}  a^r \\pmod n \\tag{1}.$$\n",
        "Si $a^2 \\equiv a_0 \\pmod n$, obtenemos\n",
        "$$   d = d_0 \\cdot 2 + r  \\quad  \\Rightarrow \\quad  a^d \\equiv {a_0}^{d_0}  a^r \\pmod n \\tag{2}.$$\n",
        "Supongamos que queremos calcular $r$ tal que\n",
        "$$3^{9} \\equiv r\\; (\\operatorname{mod} 5),$$\n",
        "con $0 \\le r < 5$. Esto no es más que calcular\n",
        "         3**9 % 5.\n",
        "En  este caso, podemos hacer este cálculo en Python directamente, pero mostraremos como es el método para ejemplificar. Lo  que haremos es lo siguiente: como `9 = 2*4 + 1`, tenemos por la fórmula (2) que\n",
        "        3**9 % 5 = (3**2)**4 * 3 % 5\n",
        "                 =      4**4 * 3 % 5     # 3**2 % 5 = 9 % 5 = 4\n",
        "                 = (4**2)**2 * 3 % 5\n",
        "                 =      1**2 * 3 % 5     # 4**2 % 5 = 16 % 5 = 1\n",
        "                 = 3 % 5\n",
        "                 = 3\n",
        "Supongamos ahora que queremos calcular\n",
        "         5**1125899986842625 % 100000037.\n",
        "Hacer este cálculo en Python directamente no nos da un resultado satisfactorio. Haga el intento para  convencerse. Pero  como `1125899986842625 < 2**51`, usando el método de las fórmulas (1) y (2) necesitaremos alrededor de 50 pasos del tipo\n",
        "        c = x**2 * 5**r * c % 100000037\n",
        "donde `0 <= x, c <= 100000037` y `r = 0, 1`. La clave es que cada uno de estos cálculos se realiza con facilidad en Python."
      ]
    },
    {
      "cell_type": "markdown",
      "metadata": {
        "id": "eu-P5-lqcNXL"
      },
      "source": [
        "**Ejercicio 1.** Sean `a, d, n` enteros positivos definir la función\n",
        "\n",
        "        pot_mod(a, d, n)\n",
        "\n",
        "que devuelve `a**d % n` (`a` a la `d` módulo `n`) usando el  método binario de exponenciación modular."
      ]
    },
    {
      "cell_type": "code",
      "metadata": {
        "id": "FaheGptk2OmX"
      },
      "source": [
        "def pot_mod(a: int, d: int, n: int) -> int:\n",
        "    '''Calcula la a**d % n utilizando el metodo de exponenciacion modular.\n",
        "    Devuelve resto de la division de a**d por el modulo n.\n",
        "\n",
        "    Parameters\n",
        "    ----------\n",
        "    a : int\n",
        "        Base que se eleva a d-esima potencia, normalmente positiva.\n",
        "    d : int\n",
        "        Exponente a la que eleva la base a.\n",
        "    n : int\n",
        "        Entero positivo llamado módulo.\n",
        "\n",
        "    Returns\n",
        "    -------\n",
        "    c : int\n",
        "        Devuelve el resto de la divison de la base \"a\" elevado al exponente \"d\" por el modulo \"n\".\n",
        "    '''\n",
        "\n",
        "    # pre: a, d, n enteros positivos\n",
        "    # post: devuelve a**d % n calculado por el método binario de exponenciacion modular\n",
        "    i = 0\n",
        "    list_base = list()\n",
        "    q0 = d\n",
        "    a0 = a\n",
        "    while q0 > 0:\n",
        "        d0 = q0 % 2\n",
        "        q0 = q0 // 2\n",
        "        list_base.append(a0**d0)\n",
        "        a0 = (a0**2 % n)\n",
        "        i += 1\n",
        "\n",
        "    # completar\n",
        "    prod_base = 1\n",
        "\n",
        "    for i in range(len(list_base)):\n",
        "        prod_base *= list_base[i]\n",
        "    c = prod_base % n\n",
        "    return c"
      ],
      "execution_count": null,
      "outputs": []
    },
    {
      "cell_type": "code",
      "metadata": {
        "id": "3e6EiuEaIQfq",
        "colab": {
          "base_uri": "https://localhost:8080/"
        },
        "outputId": "2d596f91-2c09-4b20-91fe-d1bf5f924f59"
      },
      "source": [
        "# Tests (los resultados deberían ser casi instantaneos)\n",
        "print(pot_mod(2,4,15)) # 1\n",
        "print(pot_mod(7, 385, 11)) # 10\n",
        "print(pot_mod(5,1125899986842625, 100000037 )) # 98770120\n"
      ],
      "execution_count": null,
      "outputs": [
        {
          "output_type": "stream",
          "name": "stdout",
          "text": [
            "1\n",
            "10\n",
            "98770120\n"
          ]
        }
      ]
    },
    {
      "cell_type": "markdown",
      "metadata": {
        "id": "VLSyi_zsdjjs"
      },
      "source": [
        "## Test de primalidad de  Miller-Rabin\n",
        "\n",
        "El test de primalidad Miller-Rabin es una prueba probabilística de primalidad: un algoritmo que determina si un número dado es probable que sea primo.\n",
        "\n",
        "Este test sigue siendo ampliamente utilizado en la práctica (en RSA, por ejemplo) y es una de las pruebas más simples y rápidas conocidas.\n",
        "\n",
        "Dado $m$ un entero positivo.\n",
        "- Si le hacemos el test a $m$ y no supera la prueba, entonces el número no es primo.\n",
        "- Si hacemos $k$ veces el test y $m$ supera las $k$ pruebas, entonces  $m$ tiene la probabilidad $1 - ( 1 / 4^k)$ de ser primo.\n",
        "\n",
        "Ver: [https://en.wikipedia.org/wiki/Miller%E2%80%93Rabin_primality_test](https://en.wikipedia.org/wiki/Miller%E2%80%93Rabin_primality_test)\n",
        "\n",
        "&nbsp;\n",
        "\n",
        "**Números probables primos**\n",
        "\n",
        "Sea $n > 2$ un entero impar, entonces $n = 2^s \\cdot d + 1$ con $d$ impar. Sea $a$ entero  tal que $0 < a < n$. Entonces diremos que $n$ es _fuertemente probable primo (FPP) respecto a la base_ $a$ si se cumple  \n",
        "- $a^{d} \\equiv 1 \\pmod{n}$, o\n",
        "- $a^{2^r\\cdot\\, d} \\equiv -1 \\pmod{n}$  para algún $r$ tal que $0 \\le r < s$.\n",
        "\n",
        "&nbsp;\n",
        "\n",
        "Con la aplicación del teorema de Fermat y la ecuación lineal de congruencia se prueba que todo número primo es FPP respecto a cualquier base. El contrarrecíproco de esta afimación nos dice que un número que no es FPP respecto a alguna base es compuesto.\n",
        "\n",
        "Ahora bien, un número $n$ que es FPP respecto a todas las bases $ 0 < a < n$ es primo, pero este cáclulo es computacionalmente imposible para primos grandes.  \n",
        "\n",
        "Por otro lado, un número $n$ que es FPP respecto alguna base $ 0 < a < n$ podría ser compuesto, pero hay una probabilidad mayor que 0.75 de que sea primo. La verificación con diferentes bases de que un número es FPP acerca a 1 la probabilidad de que el número sea primo.  \n",
        "\n",
        "\n",
        "**Algoritmo**\n",
        "\n",
        "El test  de primalidad de Miller-Rabin se basa en las observaciones realizadas más arriba: sea `n` entero positivo impar entonces, `n = 2**s * d + 1` con `d` impar, y sea `k` entero positivo.  \n",
        "1. Elegir al  azar `a` entero tal que `0 < a < n`.\n",
        "2. Verificar que  `n` es FPP respecto a la base `a`.\n",
        "3. Repetir 1. y 2. `k` veces.\n",
        "\n",
        "Si `n` es FPP las `k` veces,  entonces decimos que `n` supera el test de primalidad de Miller-Rabin (y lo consideramos primo).  "
      ]
    },
    {
      "cell_type": "markdown",
      "metadata": {
        "id": "nWkHdfgnosdD"
      },
      "source": [
        "**Ejercicio 2**\n",
        "\n",
        "1. Escribir la función `fpp()` que determina  si un número `n` es fuertemente probablemente primo respecto a una base `a`.\n",
        "2. Escribir el test de primalidad de Miller-Rabin `test_Miller_Rabin()`.  \n",
        "\n",
        "_Observación._ Para la definición de `test_Miller_Rabin()` puede usarse  la función `fpp()` `k`-veces aunque esto no sería muy conveniente (¿por qué?). Si lo desea, puede reformular la modularización con funciones auxiliares (lo más elegante) o simplemente reescribir parte del código de `fpp()` dentro de `test_Miller_Rabin()`."
      ]
    },
    {
      "cell_type": "code",
      "metadata": {
        "id": "kzrfY1P3q6nV"
      },
      "source": [
        "import random\n",
        "import math\n",
        "\n",
        "def pot2(n: int) -> tuple:\n",
        "    '''Dado n entero impar y n > 2  devuelve s, d tal que n = 2**s * d + 1,  con d impar.\n",
        "\n",
        "    Parameters\n",
        "    ----------\n",
        "    n : int\n",
        "        Ingresar n numero entero impar y n > 2.\n",
        "\n",
        "    Returns\n",
        "    -------\n",
        "    tuple\n",
        "        Devuelve \"s\" y \"d\" enteros como una tupla\n",
        "        21 = 2**2 * 5 + 1 s=2  d = 5\n",
        "\n",
        "    Notes (without format)\n",
        "    -----\n",
        "    13 = 2**1 * 7 + 1 > 13\n",
        "    13 = 2**1 * 5 + 1 < 13\n",
        "    13 = 2**2 * 5 + 1 > 13\n",
        "    13 = 2**1 * 3 + 1 < 13\n",
        "    13 = 2**2 * 3 + 1 == 13\n",
        "\n",
        "    3 = 2**1 * 1 + 1\n",
        "    512 -> 4.5\n",
        "    1024 -> 5\n",
        "    2048 -> 5.5\n",
        "    4096 -> 6\n",
        "    '''\n",
        "    # pre: n > 0, n impar\n",
        "    # post: devuelve s, d tal n = 2**s * d + 1,  con d impar.\n",
        "    #NOTA JAVIER : s es distinto de cero y d es almenos el entero superior de la mitad de n\n",
        "    n_mitad = n//2 + 1\n",
        "    #d_lista = [d for d in range(n_mitad + 1) if d%2==1]\n",
        "    for exp in range(1,int(math.log2(n)) + 1):\n",
        "        #NOTA JAVIER : Busqueda binaria\n",
        "        lo, hi = 1 , n_mitad\n",
        "\n",
        "        while lo < hi:\n",
        "            num = (lo + hi) //2\n",
        "            n2 = 2 ** exp * num + 1\n",
        "            if n2 == n and num % 2:\n",
        "                return exp, num\n",
        "            elif n2 < n:\n",
        "                lo = num\n",
        "            elif n2 > n:\n",
        "                hi = num\n",
        "            else:\n",
        "                break\n",
        "\n",
        "\n",
        "def fpp(n, a: int) -> bool:\n",
        "    ''' Verifica si dado n impar es fuertemente probablemente primo(FPP) respecto a una base a\n",
        "    con  0 < a < n.\n",
        "        Un numero n es FPP respecto a la base a si se cumple:\n",
        "        a**d % n == 1  ó  a**((2**r)*d) % n == -1 para algun r talque  0 <= r < s\n",
        "\n",
        "    Parameters\n",
        "    ----------\n",
        "    n : int\n",
        "        n es un entero impar candidato a ser FPP respecto a la base a\n",
        "    a : int\n",
        "        a la base\n",
        "    Returns\n",
        "    -------\n",
        "    ret : bool\n",
        "        Devuele True o False si n es FPP respecto a la base a.\n",
        "    '''\n",
        "    # pre:  n impar, 0 < a < n\n",
        "    # post: devuelve True si n = es FPP respecto a a. False en caso contrario\n",
        "    ret = False\n",
        "    s, d = pot2(n)\n",
        "\n",
        "    condicion1 =  pot_mod(a, d, n) == 1\n",
        "    condicion2 = False\n",
        "    r = 0\n",
        "    while r < s:\n",
        "        exp_aux = (2**r)*d\n",
        "        if pot_mod(a, exp_aux, n) == (-1 + n):\n",
        "            condicion2 =  True\n",
        "\n",
        "        r += 1\n",
        "    #a ** d % n == 1 or a** exp_aux % n == -1\n",
        "    ret = condicion1 or condicion2\n",
        "\n",
        "    return ret\n",
        "\n",
        "def test_Miller_Rabin(n: int, k: int) -> bool:\n",
        "    '''Determina si un número dado n es probable que sea primo usando el Test de primalidad Miller-Rabin usando bases aleatorias.\n",
        "\n",
        "    Si le hacemos el test a  n  y no supera la prueba, entonces el número no es primo.\n",
        "    Si hacemos  k veces el test y  n  supera las k  pruebas, entonces  n  tiene la probabilidad  1−(1/(4**k))  de ser primo.\n",
        "\n",
        "    Parameters\n",
        "    ----------\n",
        "    n : int\n",
        "        n es el numero al que aplicamos al Test de primalidad Miller-Rabin , n entero impar y n > 2.\n",
        "    k : int\n",
        "        k es un entero , k > 0 numero de veces que probamos que n es FPP respecto a bases aleatorias.\n",
        "\n",
        "    Returns\n",
        "    -------\n",
        "    ret : bool\n",
        "        Devuelve True si n supera el Test de Primalidad de Miller-Rabin , False en caso contrario.\n",
        "     '''\n",
        "    # pre: n > 2, n impar, k > 0\n",
        "    # post: si n es FPP k-veces (con base al azar) devuelve True. En  caso  contrario  devuelve False.\n",
        "    ret = True\n",
        "    i = 0\n",
        "    while i < k and ret:\n",
        "        base = random.randint(2, n-1)\n",
        "        if not fpp(n, base):\n",
        "            ret = False\n",
        "        i += 1\n",
        "    return ret"
      ],
      "execution_count": null,
      "outputs": []
    },
    {
      "cell_type": "code",
      "metadata": {
        "id": "tPFFWryHskOf",
        "colab": {
          "base_uri": "https://localhost:8080/"
        },
        "outputId": "2b3af0ba-0bb5-4fe3-cd2e-550e3dd87999"
      },
      "source": [
        "# Tests: si las funciones están bien implementadas los siguiente debería ser muy rápido.\n",
        "\n",
        "print(fpp(17, 5)) # True\n",
        "print(fpp(3221225473, 53)) # True\n",
        "\n",
        "primo = True\n",
        "for i in range(27):\n",
        "  primo = primo and fpp(27, i)\n",
        "print(primo) # False\n",
        "\n",
        "print(test_Miller_Rabin(31, 4)) # True\n",
        "print(test_Miller_Rabin(351, 10)) # probablemente False\n",
        "print(test_Miller_Rabin(10**8+37, 5)) # True\n",
        "print(test_Miller_Rabin(2074722246773485207821695222107608587480996474721117292752992589912196684750549658310084416732550077, 100)) # True\n",
        "print(test_Miller_Rabin(323000000000023902000000000442187, 100)) # False (probablemente)\n",
        "print(test_Miller_Rabin(2**500 + 3, 50)) # False (probablemente)"
      ],
      "execution_count": null,
      "outputs": [
        {
          "output_type": "stream",
          "name": "stdout",
          "text": [
            "True\n",
            "True\n",
            "False\n",
            "True\n",
            "False\n",
            "True\n",
            "True\n",
            "False\n",
            "False\n"
          ]
        }
      ]
    },
    {
      "cell_type": "markdown",
      "metadata": {
        "id": "qY7ta-ptfAT6"
      },
      "source": [
        "**Ejercicio 3**\n",
        "\n",
        "Los primos _grandes_ son muy importantes para el uso en criptografía de clave pública, en particular para el algoritmo RSA.\n",
        "\n",
        "El objetivo de este ejercicios es calcular de manera eficiente números primos aleatorios muy grandes con un tamaño de bit específico.\n",
        "\n",
        "El método estándar para implementar un generador de números primos aleatorios se da a continuación:\n",
        "\n",
        "1. Preseleccione un número aleatorio con el tamaño de bits deseado\n",
        "2.Asegúrese de que el número elegido no sea divisible por los primeros cientos de números primos (estos están pregenerados)\n",
        "3. Aplique un cierto número de iteraciones de la prueba de primalidad de Rabin-Miller. Un número aceptable son 50 repeticiones.\n",
        "\n",
        "- Implementar estos pasos.\n",
        "- Definir una función que encuentre un número de 100 dígitos que supere Miller-Rabín 50 veces.\n"
      ]
    },
    {
      "cell_type": "code",
      "metadata": {
        "id": "1ujVNpejDOnH"
      },
      "source": [
        "# Usar la siguiente función para encontrar primos de 2 a n.\n",
        "def criba_w(n: int) -> list: # de Wikipedia en inglés.\n",
        "    '''Devuelve una lista con los primos entre 2 y n.\n",
        "\n",
        "    Parameters\n",
        "    ----------\n",
        "    n : int\n",
        "        n es un entero positivo.\n",
        "\n",
        "    Returns\n",
        "    -------\n",
        "    list\n",
        "        Devuelve una lista de enteros todos primos <= n.\n",
        "\n",
        "    '''\n",
        "    # pre: n  entero positivo\n",
        "    # post: devuleve la lista de los primos <= n\n",
        "    a = [True]*(n+1) # Hace un  lista de n + 1 elementos cada uno True [True, True, ..., True]\n",
        "    for i in range(2, int(n**0.5) + 1): # por observación 1\n",
        "        if a[i] == True:\n",
        "            for j in range(i**2, n+1, i ): # por observación 2\n",
        "                a[j] = False\n",
        "    # Si a[i] == True,  entonces i es primo (i >= 2)\n",
        "    return [i for i in range(2,n+1) if a[i] == True]\n",
        "\n"
      ],
      "execution_count": null,
      "outputs": []
    },
    {
      "cell_type": "code",
      "metadata": {
        "id": "S3bmPYWTOVVj"
      },
      "source": [
        "# Dado t, completar con las funciones que permitan encontrar un número al azar de longitud t que no sea divisible por los primos <= n (para n dado)"
      ],
      "execution_count": null,
      "outputs": []
    },
    {
      "cell_type": "code",
      "source": [
        "#Funcion auxiliar\n",
        "def primeros_100_primos() -> int:\n",
        "    '''Devuelve un entero que es cota superior de los primero 100 primos osea '100primos' <= n.\n",
        "\n",
        "    Returns\n",
        "    -------\n",
        "    n : int\n",
        "        Entero positivo que es cota superior de los primeros 100 primos.\n",
        "    '''\n",
        "    n = 1\n",
        "    while len(criba_w(n)) < 100:\n",
        "        n += 1\n",
        "    return n"
      ],
      "metadata": {
        "id": "FmUlijLgL7ww"
      },
      "execution_count": null,
      "outputs": []
    },
    {
      "cell_type": "code",
      "source": [
        "primeros_100_primos()"
      ],
      "metadata": {
        "colab": {
          "base_uri": "https://localhost:8080/"
        },
        "id": "w4H-4_DYMGFJ",
        "outputId": "4ae7203b-7a0d-441d-c146-7850d5eb775e"
      },
      "execution_count": null,
      "outputs": [
        {
          "output_type": "execute_result",
          "data": {
            "text/plain": [
              "541"
            ]
          },
          "metadata": {},
          "execution_count": 7
        }
      ]
    },
    {
      "cell_type": "code",
      "source": [
        "#usando la forma de los primos de Mersenne\n",
        "def nbit_primo_mersenne(t : int):\n",
        "    '''Devuelve un numero aleatorio(puede ser primo o no) de t-bits de la forma de los primos de Mersenne\n",
        "\n",
        "    Parameters\n",
        "    ----------\n",
        "    t : int\n",
        "        Entero que representa el numero de bits.\n",
        "\n",
        "    Returns\n",
        "    -------\n",
        "    int\n",
        "        Devuelve un numero entero positivo aleatorio (puede ser primo o no)d e la forma de los primos de Mersenne\n",
        "    '''\n",
        "    return random.randint(2**(t-1) + 1, 2**t - 1)"
      ],
      "metadata": {
        "id": "Wn3h80q7MDkp"
      },
      "execution_count": null,
      "outputs": []
    },
    {
      "cell_type": "code",
      "source": [
        "mers = nbit_primo_mersenne(1024)\n",
        "len(str(mers))"
      ],
      "metadata": {
        "colab": {
          "base_uri": "https://localhost:8080/"
        },
        "id": "9-8IrmexMGxP",
        "outputId": "264d1368-6c31-45e9-9846-4a76acf57559"
      },
      "execution_count": null,
      "outputs": [
        {
          "output_type": "execute_result",
          "data": {
            "text/plain": [
              "309"
            ]
          },
          "metadata": {},
          "execution_count": 9
        }
      ]
    },
    {
      "cell_type": "code",
      "source": [
        "def no_es_divisible_primeros_primos(t, n : int) -> bool:\n",
        "    '''Verifica si dado un entero t positivo no es divisible por los primero n primos.\n",
        "\n",
        "    Parameters\n",
        "    ----------\n",
        "    t : int\n",
        "        Es un entero positivo candidato a ser primo.\n",
        "\n",
        "    Returns\n",
        "    -------\n",
        "    bool\n",
        "        Devuelve True si t no es divisible por los primeros n primos, False en caso contrario.\n",
        "    '''\n",
        "    num_ok = True\n",
        "    lista_primos = criba_w(n)\n",
        "    for primo in lista_primos:\n",
        "        if t % primo == 0:\n",
        "            num_ok = False\n",
        "    return num_ok"
      ],
      "metadata": {
        "id": "cjosykVuMXBD"
      },
      "execution_count": null,
      "outputs": []
    },
    {
      "cell_type": "code",
      "source": [
        "def candidato_primo_RSA(t, k: int):\n",
        "    '''Devuelve un numero probablemente primo usando aplicando k-veces el test Miller-Rabbin.\n",
        "\n",
        "    Parameters\n",
        "    ----------\n",
        "    t : int\n",
        "        Entero que representa el numero de bits.\n",
        "    k : int\n",
        "        Entero que representa el numero de veces a aplicar el test Miller-Rabbin.\n",
        "\n",
        "    '''\n",
        "    ok_candidato = False\n",
        "    while not ok_candidato:\n",
        "        candidato_primo = nbit_primo_mersenne(t)\n",
        "        if no_es_divisible_primeros_primos(candidato_primo, 1000):\n",
        "            print('Paso la primera prueba')\n",
        "            if test_Miller_Rabin(candidato_primo,k):\n",
        "                print('Prime NUMBER OK!')\n",
        "                ok_candidato = True\n",
        "            else:\n",
        "                print('No Paso la segunda Prueba')\n",
        "    return candidato_primo"
      ],
      "metadata": {
        "id": "FcGhziObMcjF"
      },
      "execution_count": null,
      "outputs": []
    },
    {
      "cell_type": "code",
      "source": [
        "candidato_primo_RSA(1024, 50) # t = 1024 random number between 2**(t-1) + 1 and  2**t - 1\n",
        "# k = 50   k-veces el Test de Miller-Rabbin"
      ],
      "metadata": {
        "colab": {
          "base_uri": "https://localhost:8080/"
        },
        "id": "qdXuYbUvMiuA",
        "outputId": "25bde357-8bc4-4d9d-a1df-5b1e7150ef65"
      },
      "execution_count": null,
      "outputs": [
        {
          "output_type": "stream",
          "name": "stdout",
          "text": [
            "Paso la primera prueba\n",
            "No Paso la segunda Prueba\n",
            "Paso la primera prueba\n",
            "No Paso la segunda Prueba\n",
            "Paso la primera prueba\n",
            "No Paso la segunda Prueba\n",
            "Paso la primera prueba\n",
            "No Paso la segunda Prueba\n",
            "Paso la primera prueba\n",
            "No Paso la segunda Prueba\n",
            "Paso la primera prueba\n",
            "No Paso la segunda Prueba\n",
            "Paso la primera prueba\n",
            "No Paso la segunda Prueba\n",
            "Paso la primera prueba\n",
            "No Paso la segunda Prueba\n",
            "Paso la primera prueba\n",
            "No Paso la segunda Prueba\n",
            "Paso la primera prueba\n",
            "No Paso la segunda Prueba\n",
            "Paso la primera prueba\n",
            "No Paso la segunda Prueba\n",
            "Paso la primera prueba\n",
            "No Paso la segunda Prueba\n",
            "Paso la primera prueba\n",
            "No Paso la segunda Prueba\n",
            "Paso la primera prueba\n",
            "No Paso la segunda Prueba\n",
            "Paso la primera prueba\n",
            "No Paso la segunda Prueba\n",
            "Paso la primera prueba\n",
            "No Paso la segunda Prueba\n",
            "Paso la primera prueba\n",
            "No Paso la segunda Prueba\n",
            "Paso la primera prueba\n",
            "No Paso la segunda Prueba\n",
            "Paso la primera prueba\n",
            "No Paso la segunda Prueba\n",
            "Paso la primera prueba\n",
            "No Paso la segunda Prueba\n",
            "Paso la primera prueba\n",
            "No Paso la segunda Prueba\n",
            "Paso la primera prueba\n",
            "No Paso la segunda Prueba\n",
            "Paso la primera prueba\n",
            "No Paso la segunda Prueba\n",
            "Paso la primera prueba\n",
            "No Paso la segunda Prueba\n",
            "Paso la primera prueba\n",
            "No Paso la segunda Prueba\n",
            "Paso la primera prueba\n",
            "No Paso la segunda Prueba\n",
            "Paso la primera prueba\n",
            "No Paso la segunda Prueba\n",
            "Paso la primera prueba\n",
            "No Paso la segunda Prueba\n",
            "Paso la primera prueba\n",
            "No Paso la segunda Prueba\n",
            "Paso la primera prueba\n",
            "No Paso la segunda Prueba\n",
            "Paso la primera prueba\n",
            "No Paso la segunda Prueba\n",
            "Paso la primera prueba\n",
            "No Paso la segunda Prueba\n",
            "Paso la primera prueba\n",
            "No Paso la segunda Prueba\n",
            "Paso la primera prueba\n",
            "No Paso la segunda Prueba\n",
            "Paso la primera prueba\n",
            "No Paso la segunda Prueba\n",
            "Paso la primera prueba\n",
            "No Paso la segunda Prueba\n",
            "Paso la primera prueba\n",
            "No Paso la segunda Prueba\n",
            "Paso la primera prueba\n",
            "No Paso la segunda Prueba\n",
            "Paso la primera prueba\n",
            "Prime NUMBER OK!\n"
          ]
        },
        {
          "output_type": "execute_result",
          "data": {
            "text/plain": [
              "169443905710794159039967131250538138531200155947377901849370155061330263826706584333176795374119977896739020508325358915868679866494474022958533211542761442575586074173431206705408491761028986723445160328408230654653311233436569947321731031365903958101865571011537911925240954871083054062186041766407513473509"
            ]
          },
          "metadata": {},
          "execution_count": 12
        }
      ]
    },
    {
      "cell_type": "markdown",
      "metadata": {
        "id": "7xUq2PgTDzRr"
      },
      "source": [
        "## El criptosistema RSA\n",
        "\n",
        "Una de las aplicaciones más elementales y difundidas de la aritmética es en el diseño de sistemas criptográficos. El RSA es el más conocido de ellos y lo implementaremos a continuación.\n",
        "\n",
        "El RSA es un sistema de clave pública, lo que en este caso significa que  el receptor conoce una clave privada $y$ (no compartida por nadie) y publicita una clave pública $x$. Si alguien desea enviar un mensaje $M$ debe hacer $M'=f(M,x)$, lo envía al receptor que para decodificarlo debe hacer $M=g(M',y)$, donde $f$ y $g$ son funciones cuidadosamente elegidas. $M'$ puede ser enviado en forma no segura, pues el único que puede decodificarlo es el poseedor de la clave privada. También $f$ y $g$ son públicas, los únicos secretos son $M$ e $y$.\n",
        "\n",
        "Una ventaja evidente de los sistemas de clave pública es que no es necesario poner en conocimiento del emisor ninguna clave confidencial, más aún cualquier persona puede enviar en forma confidencial datos a otra persona que ha publicitado su clave.\n",
        "\n"
      ]
    },
    {
      "cell_type": "markdown",
      "metadata": {
        "id": "wNGWilACEELR"
      },
      "source": [
        "**Idea del  algoritmo**\n",
        "\n",
        "Supongamos que la persona $B$  quiere enviar a la persona $A$ un mensaje $m$ pero encriptado de tal forma que sólo $A$ pueda leer su contenido. Por su parte $A$ hace públicos dos números $e$ y $n$ que son los que se utilizarán para encriptar los mensajes que le envíen.\n",
        "\n",
        "Entonces a partir de $m$ la persona $B$ genera un mensaje cifrado $c$ mediante la siguiente operación:\n",
        "$$\n",
        "    c\\equiv m^e\\ \\pmod{n}\\ ,\n",
        "$$\n",
        "donde $e$ y $n$ es la clave pública de $A$.\n",
        "\n",
        "Ahora $A$ recupera le mensaje $m$ a partir del mensaje en clave $c$ mediante la operación inversa dada por\n",
        "$$\n",
        "    m\\equiv c^d\\ \\pmod{n}\\ ,\n",
        "$$\n",
        "donde $d$ es la clave privada que solo $A$ conoce."
      ]
    },
    {
      "cell_type": "markdown",
      "metadata": {
        "id": "2LPq6iFUEIYz"
      },
      "source": [
        "**Elección de claves**\n",
        "\n",
        "\n",
        "Dados primos distintos $p$ y $q$ suficientemente grandes.\n",
        "\n",
        "- La _clave pública_ es $(n, e)$ con  \n",
        "    - $n = pq$,   \n",
        "    - $1 < e < (p-1)(q-1)$ tal que $$\\operatorname{mcd}(e, (p-1)(q-1)) = 1.$$\n",
        "- La _clave privada_ es un $d$ tal que\n",
        "$$ed \\equiv 1 \\pmod{(p-1)(q-1)} \\quad \\wedge \\quad 0 \\le d <(p-1)(q-1)$$\n",
        "\n",
        "\n",
        "\n",
        "_Observacion_. Algunos comentarios sobre la elección de $p,q,e,d$.\n",
        "- Los dos primos $p$ y $q$ deberían tener alrededor de $300$ dígitos cada uno (longitud considerada segura en este momento).\n",
        "- El número $e$ puede elegirse pequeño y se selecciona haciendo prueba y error con el algoritmo de Euclides, es decir probando hasta encontrar un $e$ tal que $\\operatorname{mcd}(e, (p-1)(q-1)) = 1$.\n",
        "- La existencia de $d$ está garantizada por la ecuación lineal de congruencia, pues $e$ y $(p-1)(q-1)$ son coprimos."
      ]
    },
    {
      "cell_type": "markdown",
      "metadata": {
        "id": "Wr0JWrLKExso"
      },
      "source": [
        "**Ejercicio 4.** dados `p` y `q` dos números primos, definir la función\n",
        "\n",
        "        clave_pub(p, q)\n",
        "que devuelve  `(n, e)` tal que `n == p*q` y `mcd(e, (p-1)*(q-1)) == 1`.\n",
        "\n",
        "Definir también la función\n",
        "        \n",
        "        clave_priv(p, q)\n",
        "que devuelve un entero `d` tal que `e * d % (p-1)*(q-1) == 1`."
      ]
    },
    {
      "cell_type": "code",
      "metadata": {
        "id": "Xfw0yPGBFQzk"
      },
      "source": [
        "import math\n",
        "\n",
        "def clave_pub(p,q: int) -> tuple([int, int]):\n",
        "    '''Dados p,q numeros primos devuelve (n,e) consideradas claves publicas para el algoritmo RSA.\n",
        "\n",
        "    Parameters\n",
        "    ----------\n",
        "    p : int\n",
        "        Entero primo preferentemente grande.\n",
        "    q : int\n",
        "        Entero primo preferentemente grande.\n",
        "\n",
        "    Returns\n",
        "    -------\n",
        "    tuple\n",
        "        Devuevle una tupla de enteros (n,e) tal que n == p*q y mcd(e, (p-1)*(q-1)) == 1.\n",
        "    '''\n",
        "    # pre: p, q números primos\n",
        "    # post: devuelve (n, e) tal que n == p*q y mcd(e, (p-1)*(q-1)) == 1\n",
        "    n = p * q\n",
        "    e = 2\n",
        "    while True:\n",
        "        if math.gcd(e,(p-1)*(q-1)) == 1:\n",
        "            break\n",
        "        e += 1\n",
        "    return n, e\n",
        "\n",
        "\n",
        "# Se debe usar la siguiente función (o similar) para resolver ed = 1 (mod (p-1)(q-1))\n",
        "\n",
        "def mcd_extendido(a, b: int) -> tuple([int, int, int]):\n",
        "    '''Devuelve el maximo comun divisor de a, b y los parametros s,t tq mcd(a,b) = s*a + t*b\n",
        "\n",
        "    Parameters\n",
        "    ----------\n",
        "    a, b: int\n",
        "        Enteros positivos.\n",
        "\n",
        "    Returns\n",
        "    -------\n",
        "    tuple\n",
        "        Devuelve d, s, t donde d = mcd(a,b) y s ,t  talque d = s*a + t*b\n",
        "\n",
        "    '''\n",
        "    # pre: a y b son números positivos\n",
        "    # post: devuelve d, s, t tal que d = mcd(a,b) = a*s + b*t\n",
        "    # a = 0*b + r1\n",
        "    #r1 = a = 1*a + 0*b  s1 = 1, t1 = 0\n",
        "    r1, s1, t1 = (a, 1, 0)\n",
        "    # b = 0*a + r2\n",
        "    #r2 = b = 0*a + 1*b  s2 = 0, t2 = 1\n",
        "    r2, s2, t2 = (b, 0, 1)\n",
        "\n",
        "    while r2 != 0:\n",
        "        #r1 = r2*q3 + r3\n",
        "        #r3 = r1 - r2*q3\n",
        "        #r3 = s1*a + t1*b -(s2*a + t2*b)*q3\n",
        "        #r3 = (s1-s2*q3)*a + (t1 - t2*q3)*b\n",
        "        q3 = r1 // r2\n",
        "        r3, s3, t3 = r1 % r2, s1-s2*q3, t1 - t2*q3\n",
        "        r1, s1, t1 = r2, s2, t2\n",
        "        r2, s2, t2 = r3, s3, t3\n",
        "    d, s, t  = r1,s1, t1\n",
        "    return d, s, t"
      ],
      "execution_count": null,
      "outputs": []
    },
    {
      "cell_type": "markdown",
      "metadata": {
        "id": "-pL456s-GxTr"
      },
      "source": [
        "La  función `mcd_extendido()` nos permite calcular la clave privada: sean `p, q`números primos y `e` tal que `mcd(e, m) = 1`,  donde `m = (p-1)*(q-1)`. Si  `(1, s, t) = mcd_extendido(e, m)`, luego `1 = s*e + t*m` lo cual implica `s*e % m = 1`. Es decir la clave privada es `s`."
      ]
    },
    {
      "cell_type": "code",
      "metadata": {
        "id": "v9yMjtd_Gz1t"
      },
      "source": [
        "def clave_priv(p, q, e: int) -> int:\n",
        "    '''Dados p, q primos y e tal que mcd(e, (p-1)*(q-1)) = 1 devuelve s que es la clave privada para el algoritmo RSA.\n",
        "\n",
        "    Parameters\n",
        "    ----------\n",
        "    p, q : int\n",
        "        Enteros primos preferentemente grandes.\n",
        "    e : int\n",
        "        Entero posivito talque mcd(e, (p-1)*(q-1)) = 1\n",
        "    '''\n",
        "    # pre: p, q números primos, mcd(e, (p-1)*(q-1)) == 1\n",
        "    # post: devuelve d tal que e * d % (p-1)*(q-1) == 1\n",
        "    m = (p-1)*(q-1)\n",
        "    s = mcd_extendido(e, m)[1] + m if mcd_extendido(e, m)[1] < 0 else mcd_extendido(e, m)[1]\n",
        "    return s"
      ],
      "execution_count": null,
      "outputs": []
    },
    {
      "cell_type": "code",
      "metadata": {
        "id": "Foj3kHZOG3nl",
        "colab": {
          "base_uri": "https://localhost:8080/"
        },
        "outputId": "b2651bf4-c0e9-4ca3-9a19-ace15bb885b1"
      },
      "source": [
        "# Tests\n",
        "p, q = 31, 47\n",
        "(n, e) = clave_pub(p, q)\n",
        "print('Clave pública:',n,e) # 1457, 7\n",
        "print(n == p*q and math.gcd(e, (p-1)*(q-1)) == 1) # True\n",
        "d = clave_priv(p, q, e)\n",
        "print('Clave privada:',d) # 1183\n",
        "print((e * d) % ((p-1)*(q-1)) == 1) # True\n",
        "\n",
        "p, q = 347, 120413\n",
        "(n, e) = clave_pub(p, q)\n",
        "print('Clave pública:',n,e) # 41783311 3\n",
        "print(n == p*q and math.gcd(e, (p-1)*(q-1)) == 1) # True\n",
        "d = clave_priv(p, q, e)\n",
        "print('Clave privada:',d) # 27775035\n",
        "print((e * d) % ((p-1)*(q-1)) == 1) # True"
      ],
      "execution_count": null,
      "outputs": [
        {
          "output_type": "stream",
          "name": "stdout",
          "text": [
            "Clave pública: 1457 7\n",
            "True\n",
            "Clave privada: 1183\n",
            "True\n",
            "Clave pública: 41783311 3\n",
            "True\n",
            "Clave privada: 27775035\n",
            "True\n"
          ]
        }
      ]
    },
    {
      "cell_type": "markdown",
      "metadata": {
        "id": "QUa6-dYRG_gs"
      },
      "source": [
        "### Encriptar y desencriptar mensajes\n",
        "\n",
        "El receptor de mensajes publicita la clave pública $(n, e)$. Obviamente no da a conocer ni $p$, ni $q$ y mantiene segura la clave privada $d$. Como mencionamos anteriormente, el envío del mensaje y su decodificación requiere dos pasos\n",
        "1. El  emisor desea encriptar un número $m \\in \\{0,\\ldots,n-1\\}$ y para ello calcula $$c \\equiv m^e \\pmod{n}$$ y  envía $c$ al receptor.\n",
        "2. El receptor desea desencriptar el mensaje, es decir usando la clave pública $(n, e)$ y el entero $c$, desea recuperar el mensaje original y  calcula $$c^d \\pmod{n}.$$.  \n",
        "Se puede demostrar que $m \\equiv c^d \\pmod{n}$,  es decir que se recupera el mensaje original."
      ]
    },
    {
      "cell_type": "markdown",
      "metadata": {
        "id": "CQJ6iNOmHK5M"
      },
      "source": [
        "**Ejercicio 5.** dados `p` y `q` dos números primos, una clave pública `(n, e)` y una clave privada `d`, definir la función\n",
        "\n",
        "        encriptar(m, n, e)\n",
        "que encripta el número `m` tal que `1 <= m <= n` según el procedimiento explicado más arriba.\n",
        "\n",
        "Definir también la función\n",
        "        \n",
        "        desencriptar(c, d)\n",
        "que recupera el mensaje original según el procedimientoo explicado más arriba."
      ]
    },
    {
      "cell_type": "code",
      "metadata": {
        "id": "GUjfR6BzHWVG"
      },
      "source": [
        "def encriptar(m, n, e: int) -> int:\n",
        "    '''Dados m, n, e con n,e clave publica RSA y m el mensaje a encriptar devuelve m**e % n.\n",
        "\n",
        "    Parameters\n",
        "    ----------\n",
        "    m : int\n",
        "        Entero considerado el mensaje a encriptar usando la clave publica RSA.\n",
        "    n, e : int\n",
        "        Enteros consideras la clave publica RSA.\n",
        "    Returns\n",
        "    -------\n",
        "    int\n",
        "       Devuelve un entero que es el resultado de m**e % n considerado el mensaje m encriptado usando la clave publica RSA.\n",
        "\n",
        "    '''\n",
        "    # pre: n y e deben ser una clave pública RSA\n",
        "    # post: devuelve m**e % n\n",
        "    return pot_mod(m, e, n)\n",
        "\n",
        "def desencriptar(n, c, d: int)  -> int:\n",
        "    '''Dado n la primera clave pública, d la clave privada, c es un mensaje encriptado devuelve c**d % n.\n",
        "\n",
        "    Parameters\n",
        "    ----------\n",
        "    n : int\n",
        "        Entero que es la primera clave publica RSA.\n",
        "    c : int\n",
        "        Entero que es el mensaje encriptado.\n",
        "    d : int\n",
        "        Entero que es la clave privada RSA.\n",
        "\n",
        "    Returns\n",
        "    -------\n",
        "    int\n",
        "        Devuelve un entero que es el resultado de c**d % n considerado el mensaje c desencriptado usando la primera clave publica RSA y la clave privada RSA.\n",
        "    '''\n",
        "    # pre: n es la primera clave pública, d es la clave privada, c es un mensaje encriptado.\n",
        "    # post: devuelve c**d % n\n",
        "    return pot_mod(c, d, n)"
      ],
      "execution_count": null,
      "outputs": []
    },
    {
      "cell_type": "code",
      "metadata": {
        "id": "xiSpagGgHgDu",
        "colab": {
          "base_uri": "https://localhost:8080/"
        },
        "outputId": "339a1f6e-bb2f-4d32-bd8f-4b3d95f3a3d3"
      },
      "source": [
        "# Tests\n",
        "\n",
        "# Test 1\n",
        "p, q = 23, 19\n",
        "(n, e) = clave_pub(p, q)\n",
        "print('Clave pública:', n, e)\n",
        "d = clave_priv(p, q, e)\n",
        "print('Clave privada:',d)\n",
        "m = 321\n",
        "# m = 425\n",
        "# m = 17\n",
        "print('mensaje O:', m)\n",
        "c = encriptar(m, n, e)\n",
        "print('encriptado:', c)\n",
        "print('mensaje D:',desencriptar(n, c, d)) # debe dar m# debe dar 321\n",
        "\n",
        "# Test 2\n",
        "p, q = 31, 47\n",
        "(n, e) = clave_pub(p, q)\n",
        "print('Clave pública:', n, e)\n",
        "d = clave_priv(p, q, e)\n",
        "print('Clave privada:',d)\n",
        "m = 1321\n",
        "# m = 425\n",
        "# m = 17\n",
        "print('mensaje O:', m)\n",
        "c = encriptar(m, n, e)\n",
        "print('encriptado:', c)\n",
        "print('mensaje D:',desencriptar(n, c, d)) # debe dar m\n",
        "\n",
        "# Test 3\n",
        "p, q = 347, 120413\n",
        "(n, e) = clave_pub(p, q)\n",
        "print('Clave pública:', n, e)\n",
        "d = clave_priv(p, q, e)\n",
        "print('Clave privada:',d)\n",
        "m = 1321\n",
        "# m = 425\n",
        "# m = 17\n",
        "print('mensaje O:', m)\n",
        "c = encriptar(m, n, e)\n",
        "print('encriptado:', c)\n",
        "# El último paso no se puede hacer sin una mejor implementación de c**d % n\n",
        "print('mensaje D:',desencriptar(n, c, d)) # debe dar m\n",
        "\n",
        "\n"
      ],
      "execution_count": null,
      "outputs": [
        {
          "output_type": "stream",
          "name": "stdout",
          "text": [
            "Clave pública: 437 5\n",
            "Clave privada: 317\n",
            "mensaje O: 321\n",
            "encriptado: 367\n",
            "mensaje D: 321\n",
            "Clave pública: 1457 7\n",
            "Clave privada: 1183\n",
            "mensaje O: 1321\n",
            "encriptado: 1092\n",
            "mensaje D: 1321\n",
            "Clave pública: 41783311 3\n",
            "Clave privada: 27775035\n",
            "mensaje O: 1321\n",
            "encriptado: 7117056\n",
            "mensaje D: 1321\n"
          ]
        }
      ]
    },
    {
      "cell_type": "code",
      "metadata": {
        "id": "6IlCdzbbzm11",
        "colab": {
          "base_uri": "https://localhost:8080/"
        },
        "outputId": "25a39944-bae5-46d7-94e3-7b663b502f12"
      },
      "source": [
        "# Test 4\n",
        "p = 93499781867718509625243886866950083035386961920954470625316868368084084635737751120749829224678180847\n",
        "q = 94712647889447080631418693313649433127300704721890445625257438462616738681520552503342426572061648387\n",
        "(n, e) = clave_pub(p, q)\n",
        "print('Clave pública:', n, e)\n",
        "d = clave_priv(p, q, e)\n",
        "print('Clave privada:',d)\n",
        "m = random.randint(10**100, 10**101)\n",
        "# m = 425\n",
        "# m = 17\n",
        "print('mensaje O:', m)\n",
        "c = encriptar(m, n, e)\n",
        "print('encriptado:', c)\n",
        "# El último paso no se puede hacer sin una mejor implementación de c**d % n\n",
        "print('mensaje D:',desencriptar(n, c, d)) # debe dar m"
      ],
      "execution_count": null,
      "outputs": [
        {
          "output_type": "stream",
          "name": "stdout",
          "text": [
            "Clave pública: 8855611917777331919418511285888522462625988216840146906528201881633844331715246396711369264527261325176270817946467946475943819873222022611885297100796332310067442964219256218986146513861136927311843789 3\n",
            "Clave privada: 5903741278518221279612340857259014975083992144560097937685467921089229554476830931140912843018174216658705592126201570812854159795081670966131753638634277372995424089012288601151895259845920753714676371\n",
            "mensaje O: 86644803643899160814018977273624214535697795011186536128978053778924962321243170543480131406053965042\n",
            "encriptado: 793692437485687850458551956796885847711617663844856989481748805553554729361523170566963585172670870179584337074652082851511999050297429192903898202434325347485732627881226075923769609777630648850169628\n",
            "mensaje D: 86644803643899160814018977273624214535697795011186536128978053778924962321243170543480131406053965042\n"
          ]
        }
      ]
    },
    {
      "cell_type": "markdown",
      "source": [
        "PD: Este era un proyecto que me intereso bastante y lo pospuse mucho tiempo, fue muy retador, creo que aprendi mucho tratando de resolverlo y en el camino me di cuenta que aun me falta mucho por aprender pero ahora ya se que lo que tengo que estudiar , pude resolverlo estudiando muchas otras cosas de Python que desconocia, repasando y aplicando matematicas :) se que es posible mejorarlo para hacerlo eficiente pero antes de eso debo seguir aprendiendo!\n",
        "Doy gracias a mis profesores por toda la onda que pusieron a la materia y lo que nos enseñaron en la misma ,ah y darme a conocer este fantastico proyecto, Saludos.\n",
        "\n",
        "PDPD: No descarto que puede que exista algun error o algun caso limite que lo haga explotar, lo estare probando tratando de encontrarlo."
      ],
      "metadata": {
        "id": "5KwBIZcJNmpJ"
      }
    },
    {
      "cell_type": "code",
      "source": [],
      "metadata": {
        "id": "UbHSBFH7TBQG"
      },
      "execution_count": null,
      "outputs": []
    }
  ]
}